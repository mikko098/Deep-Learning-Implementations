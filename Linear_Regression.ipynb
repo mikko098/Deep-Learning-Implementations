{
  "nbformat": 4,
  "nbformat_minor": 0,
  "metadata": {
    "colab": {
      "provenance": []
    },
    "kernelspec": {
      "name": "python3",
      "display_name": "Python 3"
    },
    "language_info": {
      "name": "python"
    }
  },
  "cells": [
    {
      "cell_type": "code",
      "execution_count": null,
      "metadata": {
        "id": "AW9CJFzLCX64"
      },
      "outputs": [],
      "source": [
        "class LinearRegression:\n",
        "  def __init__(self, learning_rate = 0.01, epochs = 150):\n",
        "    self.learning_rate = learning_rate\n",
        "    self.epochs = epochs\n",
        "    self.weights = None\n",
        "    self.bias = None\n",
        "    self.length = None\n",
        "    self.dimensions = None\n",
        "\n",
        "  def fit(self, X, y):\n",
        "    self.length, self.dimensions = X.shape\n",
        "    torch.manual_seed(0)\n",
        "    self.weights = 2 * torch.rand(self.dimensions) - 1\n",
        "    self.bias = 0\n",
        "    for epoch in range(self.epochs):\n",
        "      self.update_gradient(X, y)\n",
        "      if epoch % 10 == 0:\n",
        "          loss = torch.mean((y - self.predict(X)) ** 2)\n",
        "          print(f\"Epoch {epoch}, Loss: {loss.item():.4f}\")\n",
        "\n",
        "  def predict(self, X):\n",
        "    return torch.matmul(X, self.weights) + self.bias\n",
        "\n",
        "  def update_gradient(self, X, y):\n",
        "    error = y - self.predict(X)\n",
        "    self.weights += self.learning_rate * (2 / self.length) * torch.matmul(X.T, error)\n",
        "    self.bias += self.learning_rate * (2 / self.length) * error.sum()"
      ]
    },
    {
      "cell_type": "code",
      "source": [
        "import pandas as pd\n",
        "import numpy as np\n",
        "import torch"
      ],
      "metadata": {
        "id": "QuDzs4-8DOp5"
      },
      "execution_count": null,
      "outputs": []
    },
    {
      "cell_type": "code",
      "source": [
        "url = \"https://raw.githubusercontent.com/mwaskom/seaborn-data/master/iris.csv\"\n",
        "df = pd.read_csv(url)\n",
        "\n",
        "# Use only one feature and target for simplicity\n",
        "# df = df[['sepal_length', 'petal_length']]"
      ],
      "metadata": {
        "id": "VVRioIHqDOVq"
      },
      "execution_count": null,
      "outputs": []
    },
    {
      "cell_type": "code",
      "source": [
        "df.shape"
      ],
      "metadata": {
        "colab": {
          "base_uri": "https://localhost:8080/"
        },
        "id": "9f2VA-4_O7K6",
        "outputId": "e407c1c7-a8ce-4919-86ee-c62ffa94bb13"
      },
      "execution_count": null,
      "outputs": [
        {
          "output_type": "execute_result",
          "data": {
            "text/plain": [
              "(150, 5)"
            ]
          },
          "metadata": {},
          "execution_count": 165
        }
      ]
    },
    {
      "cell_type": "code",
      "source": [
        "X, y = df.iloc[:, :3], df.iloc[:, 3]"
      ],
      "metadata": {
        "id": "dPwkWy9SCk3V"
      },
      "execution_count": null,
      "outputs": []
    },
    {
      "cell_type": "code",
      "source": [
        "X.head(), y.head()"
      ],
      "metadata": {
        "colab": {
          "base_uri": "https://localhost:8080/"
        },
        "id": "ZKn7q5nWO96f",
        "outputId": "deab0835-7cae-43cb-fd2d-0db3d538ad8e"
      },
      "execution_count": null,
      "outputs": [
        {
          "output_type": "execute_result",
          "data": {
            "text/plain": [
              "(   sepal_length  sepal_width  petal_length\n",
              " 0           5.1          3.5           1.4\n",
              " 1           4.9          3.0           1.4\n",
              " 2           4.7          3.2           1.3\n",
              " 3           4.6          3.1           1.5\n",
              " 4           5.0          3.6           1.4,\n",
              " 0    0.2\n",
              " 1    0.2\n",
              " 2    0.2\n",
              " 3    0.2\n",
              " 4    0.2\n",
              " Name: petal_width, dtype: float64)"
            ]
          },
          "metadata": {},
          "execution_count": 170
        }
      ]
    },
    {
      "cell_type": "code",
      "source": [
        "X_tensor, y_tensor = torch.tensor(X.values, dtype=torch.float32), torch.tensor(y.values, dtype=torch.float32)"
      ],
      "metadata": {
        "id": "K-_uWYxzFSFU"
      },
      "execution_count": null,
      "outputs": []
    },
    {
      "cell_type": "code",
      "source": [
        "X_tensor = (X_tensor - X_tensor.mean(dim=0)) / X_tensor.std(dim=0)\n",
        "y_tensor = (y_tensor - y_tensor.mean()) / y_tensor.std()"
      ],
      "metadata": {
        "id": "ZAnBQIshNoDN"
      },
      "execution_count": null,
      "outputs": []
    },
    {
      "cell_type": "code",
      "source": [
        "model = LinearRegression()"
      ],
      "metadata": {
        "id": "XnheGbCPCk-F"
      },
      "execution_count": null,
      "outputs": []
    },
    {
      "cell_type": "code",
      "source": [
        "model.fit(X_tensor, y_tensor)"
      ],
      "metadata": {
        "colab": {
          "base_uri": "https://localhost:8080/"
        },
        "id": "0iOV9mnuClAq",
        "outputId": "3965ec77-d25a-47b2-a650-4cc24d7336f7"
      },
      "execution_count": null,
      "outputs": [
        {
          "output_type": "stream",
          "name": "stdout",
          "text": [
            "Epoch 0, Loss: 3.9973\n",
            "Epoch 10, Loss: 1.9017\n",
            "Epoch 20, Loss: 0.9697\n",
            "Epoch 30, Loss: 0.5523\n",
            "Epoch 40, Loss: 0.3631\n",
            "Epoch 50, Loss: 0.2754\n",
            "Epoch 60, Loss: 0.2332\n",
            "Epoch 70, Loss: 0.2114\n",
            "Epoch 80, Loss: 0.1991\n",
            "Epoch 90, Loss: 0.1913\n",
            "Epoch 100, Loss: 0.1856\n",
            "Epoch 110, Loss: 0.1810\n",
            "Epoch 120, Loss: 0.1770\n",
            "Epoch 130, Loss: 0.1734\n",
            "Epoch 140, Loss: 0.1700\n"
          ]
        }
      ]
    },
    {
      "cell_type": "code",
      "source": [
        "model.predict(X_tensor[:10])"
      ],
      "metadata": {
        "colab": {
          "base_uri": "https://localhost:8080/"
        },
        "id": "2fZlRMkXKwAp",
        "outputId": "714353e7-5276-4699-c3b0-a0343e69fcc1"
      },
      "execution_count": null,
      "outputs": [
        {
          "output_type": "execute_result",
          "data": {
            "text/plain": [
              "tensor([-1.1179, -1.0722, -1.3016, -1.2958, -1.2231, -1.0016, -1.4245, -1.1310,\n",
              "        -1.3788, -1.0899])"
            ]
          },
          "metadata": {},
          "execution_count": 175
        }
      ]
    },
    {
      "cell_type": "code",
      "source": [
        "y_tensor[:10]"
      ],
      "metadata": {
        "colab": {
          "base_uri": "https://localhost:8080/"
        },
        "id": "qmDJDzLiClQY",
        "outputId": "e5e86b03-3d21-490d-a2a8-d92545f1de1a"
      },
      "execution_count": null,
      "outputs": [
        {
          "output_type": "execute_result",
          "data": {
            "text/plain": [
              "tensor([-1.3111, -1.3111, -1.3111, -1.3111, -1.3111, -1.0487, -1.1799, -1.3111,\n",
              "        -1.3111, -1.4422])"
            ]
          },
          "metadata": {},
          "execution_count": 176
        }
      ]
    }
  ]
}